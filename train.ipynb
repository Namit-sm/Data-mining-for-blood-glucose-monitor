{
 "cells": [
  {
   "cell_type": "code",
   "execution_count": 426,
   "id": "043b80f6-e8bb-4e5b-9064-3f48a21872bc",
   "metadata": {},
   "outputs": [],
   "source": [
    "import pandas as pd\n",
    "import numpy as np\n",
    "from datetime import timedelta\n",
    "from scipy.fftpack import fft, ifft,rfft\n",
    "from sklearn.utils import shuffle\n",
    "from sklearn.tree import DecisionTreeClassifier\n",
    "from sklearn.model_selection import KFold, RepeatedKFold\n",
    "from joblib import dump, load\n",
    "from sklearn import svm"
   ]
  },
  {
   "cell_type": "code",
   "execution_count": 427,
   "id": "daaa0d07-cb0f-434f-964d-8b0b52346d77",
   "metadata": {},
   "outputs": [],
   "source": [
    "insulin_data_df=pd.read_csv('C:\\\\Users\\\\rguntak1\\\\Desktop\\\\Course work\\\\CSE 572\\\\Project 2\\\\InsulinData.csv', low_memory=False, usecols=['Date','Time','BWZ Carb Input (grams)'])\n",
    "cgm_data_df=pd.read_csv('C:\\\\Users\\\\rguntak1\\\\Desktop\\\\Course work\\\\CSE 572\\\\Project 2\\\\CGMData.csv',low_memory=False,usecols=['Date','Time','Sensor Glucose (mg/dL)'])\n",
    "insulin_data_df['date_time_stamp']=pd.to_datetime(insulin_data_df['Date'] + ' ' + insulin_data_df['Time'])\n",
    "cgm_data_df['date_time_stamp']=pd.to_datetime(cgm_data_df['Date'] + ' ' + cgm_data_df['Time'])\n",
    "\n",
    "insulin_data_df_1=pd.read_csv('C:\\\\Users\\\\rguntak1\\\\Desktop\\\\Course work\\\\CSE 572\\\\Project 2\\\\Insulin_patient2.csv',low_memory=False,usecols=['Date','Time','BWZ Carb Input (grams)'])\n",
    "gm_data_df_1=pd.read_csv('C:\\\\Users\\\\rguntak1\\\\Desktop\\\\Course work\\\\CSE 572\\\\Project 2\\\\CGM_patient2.csv',low_memory=False,usecols=['Date','Time','Sensor Glucose (mg/dL)'])\n",
    "insulin_data_df_1['date_time_stamp']=pd.to_datetime(insulin_data_df_1['Date'] + ' ' + insulin_data_df_1['Time'])\n",
    "cgm_data_df_1['date_time_stamp']=pd.to_datetime(cgm_data_df_1['Date'] + ' ' + cgm_data_df_1['Time'])"
   ]
  },
  {
   "cell_type": "code",
   "execution_count": 428,
   "id": "85015e8e-a6ad-4e3f-9799-bd5c877b54bd",
   "metadata": {},
   "outputs": [],
   "source": [
    "def createmealdata(insulin_data_df, cgm_data_df, dateidentifier):\n",
    "    insulin_df=insulin_data_df.copy()\n",
    "    insulin_df=insulin_df.set_index('date_time_stamp')\n",
    "    \n",
    "    # sort by date_time_stamp, \n",
    "    find_timestamp_with_2_5_hours_df=insulin_df.sort_values(by='date_time_stamp',ascending=True).dropna()\n",
    "    find_timestamp_with_2_5_hours_df['BWZ Carb Input (grams)'].replace(0.0,np.nan,inplace=True)\n",
    "    find_timestamp_with_2_5_hours_df=find_timestamp_with_2_5_hours_df.dropna().reset_index()\n",
    "    find_timestamp_with_2_5_hours_df=find_timestamp_with_2_5_hours_df.reset_index().drop(columns='index')\n",
    "    \n",
    "    valid_timestamp_list=[]\n",
    "    value=0\n",
    "    for idx,i in enumerate(find_timestamp_with_2_5_hours_df['date_time_stamp']):\n",
    "        try:\n",
    "            value=(find_timestamp_with_2_5_hours_df['date_time_stamp'][idx+1]-i).seconds / 60.0\n",
    "            if value >= 120:\n",
    "                valid_timestamp_list.append(i)\n",
    "        except KeyError:\n",
    "            break\n",
    "        # if idx == 2:\n",
    "        #     break\n",
    "    \n",
    "    list1=[]\n",
    "    if dateidentifier==1:\n",
    "        for idx,i in enumerate(valid_timestamp_list):\n",
    "            start=pd.to_datetime(i - timedelta(minutes=30))\n",
    "            end=pd.to_datetime(i + timedelta(minutes=120))\n",
    "            get_date=i.date().strftime('%#m/%#d/%Y')\n",
    "            list1.append(cgm_data_df.loc[cgm_data_df['Date']==get_date].set_index('date_time_stamp').between_time(start_time=start.strftime('%H:%M:%S'),end_time=end.strftime('%H:%M:%S'))['Sensor Glucose (mg/dL)'].values.tolist())\n",
    "    else:\n",
    "        for idx,i in enumerate(valid_timestamp_list):\n",
    "            start=pd.to_datetime(i - timedelta(minutes=30))\n",
    "            end=pd.to_datetime(i + timedelta(minutes=120))\n",
    "            get_date=i.date().strftime('%Y-%m-%d')\n",
    "            list1.append(cgm_data_df.loc[cgm_data_df['Date']==get_date].set_index('date_time_stamp').between_time(start_time=start.strftime('%H:%M:%S'),end_time=end.strftime('%H:%M:%S'))['Sensor Glucose (mg/dL)'].values.tolist())\n",
    "    return pd.DataFrame(list1)"
   ]
  },
  {
   "cell_type": "code",
   "execution_count": 429,
   "id": "e97146c4-0fce-4d6a-9de2-62b7ad0b5b16",
   "metadata": {},
   "outputs": [],
   "source": [
    "meal_data=createmealdata(insulin_data_df, cgm_data_df, 1)\n",
    "meal_data=meal_data.iloc[:,0:30]\n",
    "\n",
    "meal_data1=createmealdata(insulin_data_df_1, cgm_data_df_1, 2)\n",
    "meal_data1=meal_data1.iloc[:,0:30]"
   ]
  },
  {
   "cell_type": "code",
   "execution_count": 430,
   "id": "a1ff2243-8b56-4584-8f8a-629751cc53ea",
   "metadata": {},
   "outputs": [],
   "source": [
    "def createnomealdata(insulin_data_df,cgm_data_df):\n",
    "    insulin_no_meal_df=insulin_data_df.copy()\n",
    "    test1_df=insulin_no_meal_df.sort_values(by='date_time_stamp',ascending=True).replace(0.0,np.nan).dropna().copy()\n",
    "    test1_df=test1_df.reset_index().drop(columns='index')\n",
    "    valid_timestamp=[]\n",
    "    for idx,i in enumerate(test1_df['date_time_stamp']):\n",
    "        try:\n",
    "            value=(test1_df['date_time_stamp'][idx+1]-i).seconds//3600\n",
    "            if value >=4:\n",
    "                valid_timestamp.append(i)\n",
    "        except KeyError:\n",
    "            break\n",
    "    dataset=[]\n",
    "    for idx, i in enumerate(valid_timestamp):\n",
    "        iteration_dataset=1\n",
    "        try:\n",
    "            all_nomeal=cgm_data_df.loc[(cgm_data_df['date_time_stamp']>=valid_timestamp[idx]+pd.Timedelta(hours=2))&(cgm_data_df['date_time_stamp']<valid_timestamp[idx+1])]['Sensor Glucose (mg/dL)']\n",
    "            total_length = len(all_nomeal)\n",
    "            no_of_24_dataset=total_length//24\n",
    "            while (iteration_dataset<=no_of_24_dataset):\n",
    "                if iteration_dataset==1:\n",
    "                    dataset.append(all_nomeal.iloc[:24].values.tolist())   \n",
    "                else:\n",
    "                    dataset.append(all_nomeal.iloc[(iteration_dataset-1)*24:(iteration_dataset)*24].values.tolist())\n",
    "                iteration_dataset+=1\n",
    "        except IndexError:\n",
    "            break\n",
    "    return pd.DataFrame(dataset)"
   ]
  },
  {
   "cell_type": "code",
   "execution_count": 431,
   "id": "8789ce67-c52d-4b58-b172-2a777d204834",
   "metadata": {},
   "outputs": [],
   "source": [
    "no_meal_data=createnomealdata(insulin_data_df, cgm_data_df)\n",
    "no_meal_data1=createnomealdata(insulin_data_df_1, cgm_data_df_1)"
   ]
  },
  {
   "cell_type": "code",
   "execution_count": 432,
   "id": "d8463052-3b30-48ed-8559-515783edd02d",
   "metadata": {},
   "outputs": [],
   "source": [
    "def createmealfeaturematrix(meal_data):\n",
    "    index=meal_data.isna().sum(axis=1).replace(0,np.nan).dropna().where(lambda x:x>6).dropna().index\n",
    "    meal_data_cleaned=meal_data.drop(meal_data.index[index]).reset_index().drop(columns='index')\n",
    "    meal_data_cleaned=meal_data_cleaned.interpolate(method='linear',axis=1)\n",
    "    index_to_drop_again=meal_data_cleaned.isna().sum(axis=1).replace(0,np.nan).dropna().index\n",
    "    meal_data_cleaned=meal_data_cleaned.drop(meal_data.index[index_to_drop_again]).reset_index().drop(columns='index')\n",
    "    meal_data_cleaned['tau_time']=abs(meal_data_cleaned.iloc[:,0:30].idxmin(axis=1)-meal_data_cleaned.iloc[:,0:30].idxmax(axis=1))*5\n",
    "    meal_data_cleaned['difference_in_glucose_normalized']=(meal_data_cleaned.iloc[:,0:30].max(axis=1)-meal_data_cleaned.iloc[:,0:25].min(axis=1))/(meal_data_cleaned.iloc[:,0:30].max(axis=1))\n",
    "    meal_data_cleaned=meal_data_cleaned.dropna().reset_index().drop(columns='index')\n",
    "    power_first_max=[]\n",
    "    index_first_max=[]\n",
    "    power_second_max=[]\n",
    "    index_second_max=[]\n",
    "    for i in range(len(meal_data_cleaned)):\n",
    "        array=abs(rfft(meal_data_cleaned.iloc[:,0:30].iloc[i].values.tolist())).tolist()\n",
    "        sorted_array=abs(rfft(meal_data_cleaned.iloc[:,0:30].iloc[i].values.tolist())).tolist()\n",
    "        sorted_array.sort()\n",
    "        power_first_max.append(sorted_array[-2])\n",
    "        power_second_max.append(sorted_array[-3])\n",
    "        index_first_max.append(array.index(sorted_array[-2]))\n",
    "        index_second_max.append(array.index(sorted_array[-3]))\n",
    "    meal_feature_matrix=pd.DataFrame()\n",
    "    meal_feature_matrix['tau_time']=meal_data_cleaned['tau_time']\n",
    "    meal_feature_matrix['difference_in_glucose_normalized']=meal_data_cleaned['difference_in_glucose_normalized']\n",
    "    meal_feature_matrix['power_first_max']=power_first_max\n",
    "    meal_feature_matrix['power_second_max']=power_second_max\n",
    "    meal_feature_matrix['index_first_max']=index_first_max\n",
    "    meal_feature_matrix['index_second_max']=index_second_max\n",
    "    tm=meal_data_cleaned.iloc[:,22:25].idxmin(axis=1)\n",
    "    maximum=meal_data_cleaned.iloc[:,5:19].idxmax(axis=1)\n",
    "    list1=[]\n",
    "    second_differential_data=[]\n",
    "    standard_deviation=[]\n",
    "    for i in range(len(meal_data_cleaned)):\n",
    "        list1.append(np.diff(meal_data_cleaned.iloc[:,maximum[i]:tm[i]].iloc[i].tolist()).max())\n",
    "        second_differential_data.append(np.diff(np.diff(meal_data_cleaned.iloc[:,maximum[i]:tm[i]].iloc[i].tolist())).max())\n",
    "        standard_deviation.append(np.std(meal_data_cleaned.iloc[i]))\n",
    "    meal_feature_matrix['1stDifferential']=list1\n",
    "    meal_feature_matrix['2ndDifferential']=second_differential_data\n",
    "    return meal_feature_matrix"
   ]
  },
  {
   "cell_type": "code",
   "execution_count": 433,
   "id": "48640684-6735-4ebf-b67d-3c98bf94dabb",
   "metadata": {},
   "outputs": [],
   "source": [
    "meal_feature_matrix=createmealfeaturematrix(meal_data)\n",
    "meal_feature_matrix1=createmealfeaturematrix(meal_data1)\n",
    "meal_feature_matrix=pd.concat([meal_feature_matrix,meal_feature_matrix1]).reset_index().drop(columns='index')"
   ]
  },
  {
   "cell_type": "code",
   "execution_count": 434,
   "id": "e9981674-8091-4737-8940-a9c6236cb0c6",
   "metadata": {},
   "outputs": [],
   "source": [
    "def createnomealfeaturematrix(non_meal_data):\n",
    "    index_to_remove_non_meal=non_meal_data.isna().sum(axis=1).replace(0,np.nan).dropna().where(lambda x:x>5).dropna().index\n",
    "    non_meal_data_cleaned=non_meal_data.drop(non_meal_data.index[index_to_remove_non_meal]).reset_index().drop(columns='index')\n",
    "    non_meal_data_cleaned=non_meal_data_cleaned.interpolate(method='linear',axis=1)\n",
    "    index_to_drop_again=non_meal_data_cleaned.isna().sum(axis=1).replace(0,np.nan).dropna().index\n",
    "    non_meal_data_cleaned=non_meal_data_cleaned.drop(non_meal_data_cleaned.index[index_to_drop_again]).reset_index().drop(columns='index')\n",
    "    non_meal_feature_matrix=pd.DataFrame()\n",
    "    \n",
    "    non_meal_data_cleaned['tau_time']=abs(non_meal_data_cleaned.iloc[:,0:24].idxmin(axis=1)-non_meal_data_cleaned.iloc[:,0:24].idxmax(axis=1))*5\n",
    "    non_meal_data_cleaned['difference_in_glucose_normalized']=(non_meal_data_cleaned.iloc[:,0:24].max(axis=1)-non_meal_data_cleaned.iloc[:,0:24].min(axis=1))/(non_meal_data_cleaned.iloc[:,0:24].max(axis=1))\n",
    "    power_first_max,index_first_max,power_second_max,index_second_max=[],[],[],[]\n",
    "    for i in range(len(non_meal_data_cleaned)):\n",
    "        array=abs(rfft(non_meal_data_cleaned.iloc[:,0:24].iloc[i].values.tolist())).tolist()\n",
    "        sorted_array=abs(rfft(non_meal_data_cleaned.iloc[:,0:24].iloc[i].values.tolist())).tolist()\n",
    "        sorted_array.sort()\n",
    "        power_first_max.append(sorted_array[-2])\n",
    "        power_second_max.append(sorted_array[-3])\n",
    "        index_first_max.append(array.index(sorted_array[-2]))\n",
    "        index_second_max.append(array.index(sorted_array[-3]))\n",
    "    non_meal_feature_matrix['tau_time']=non_meal_data_cleaned['tau_time']\n",
    "    non_meal_feature_matrix['difference_in_glucose_normalized']=non_meal_data_cleaned['difference_in_glucose_normalized']\n",
    "    non_meal_feature_matrix['power_first_max']=power_first_max\n",
    "    non_meal_feature_matrix['power_second_max']=power_second_max\n",
    "    non_meal_feature_matrix['index_first_max']=index_first_max\n",
    "    non_meal_feature_matrix['index_second_max']=index_second_max\n",
    "    first_differential_data=[]\n",
    "    second_differential_data=[]\n",
    "    for i in range(len(non_meal_data_cleaned)):\n",
    "        first_differential_data.append(np.diff(non_meal_data_cleaned.iloc[:,0:24].iloc[i].tolist()).max())\n",
    "        second_differential_data.append(np.diff(np.diff(non_meal_data_cleaned.iloc[:,0:24].iloc[i].tolist())).max())\n",
    "    non_meal_feature_matrix['1stDifferential']=first_differential_data\n",
    "    non_meal_feature_matrix['2ndDifferential']=second_differential_data\n",
    "    return non_meal_feature_matrix\n"
   ]
  },
  {
   "cell_type": "code",
   "execution_count": 435,
   "id": "7a6c3add-d146-4278-be0b-58437922fac4",
   "metadata": {},
   "outputs": [],
   "source": [
    "\n",
    "non_meal_feature_matrix=createnomealfeaturematrix(no_meal_data)\n",
    "non_meal_feature_matrix1=createnomealfeaturematrix(no_meal_data1)\n",
    "non_meal_feature_matrix=pd.concat([non_meal_feature_matrix,non_meal_feature_matrix1]).reset_index().drop(columns='index')"
   ]
  },
  {
   "cell_type": "code",
   "execution_count": 436,
   "id": "c4b6df99-270e-4d46-9d8d-c4018dc479ad",
   "metadata": {},
   "outputs": [],
   "source": [
    "meal_feature_matrix['label']=1\n",
    "non_meal_feature_matrix['label']=0\n",
    "total_data=pd.concat([meal_feature_matrix,non_meal_feature_matrix]).reset_index().drop(columns='index')\n",
    "dataset=shuffle(total_data,random_state=1).reset_index().drop(columns='index')\n",
    "kfold = KFold(n_splits=10,shuffle=False)\n",
    "principaldata=dataset.drop(columns='label')\n",
    "scores_rf = []\n",
    "model=DecisionTreeClassifier(criterion=\"entropy\")\n",
    "# model=svm.SVC(kernel=\"linear\")\n",
    "for train_index, test_index in kfold.split(principaldata):\n",
    "    X_train,X_test,y_train,y_test = principaldata.loc[train_index],principaldata.loc[test_index],    dataset.label.loc[train_index],dataset.label.loc[test_index]\n",
    "    model.fit(X_train,y_train)\n",
    "    scores_rf.append(model.score(X_test,y_test))"
   ]
  },
  {
   "cell_type": "code",
   "execution_count": 437,
   "id": "4b75d34d-eb91-4dd1-b88a-cea452aef822",
   "metadata": {},
   "outputs": [
    {
     "name": "stdout",
     "output_type": "stream",
     "text": [
      "Prediction score is 87.47037716133357\n"
     ]
    }
   ],
   "source": [
    "print('Prediction score is',np.mean(scores_rf)*100)"
   ]
  },
  {
   "cell_type": "code",
   "execution_count": 438,
   "id": "e701ea72-32fe-449f-b7e4-7e08012628e0",
   "metadata": {},
   "outputs": [
    {
     "name": "stdout",
     "output_type": "stream",
     "text": [
      "[0.8369905956112853, 0.8463949843260188, 0.8652037617554859, 0.8934169278996865, 0.8867924528301887, 0.8867924528301887, 0.9025157232704403, 0.8679245283018868, 0.8710691823899371, 0.889937106918239]\n"
     ]
    },
    {
     "data": {
      "text/plain": [
       "['RandomForestClassifier.pickle']"
      ]
     },
     "execution_count": 438,
     "metadata": {},
     "output_type": "execute_result"
    }
   ],
   "source": [
    "classifier=DecisionTreeClassifier(criterion='entropy')\n",
    "X, y= principaldata, dataset['label']\n",
    "classifier.fit(X,y)\n",
    "print(scores_rf)\n",
    "dump(classifier, 'RandomForestClassifier.pickle')"
   ]
  }
 ],
 "metadata": {
  "kernelspec": {
   "display_name": "Python 3 (ipykernel)",
   "language": "python",
   "name": "python3"
  },
  "language_info": {
   "codemirror_mode": {
    "name": "ipython",
    "version": 3
   },
   "file_extension": ".py",
   "mimetype": "text/x-python",
   "name": "python",
   "nbconvert_exporter": "python",
   "pygments_lexer": "ipython3",
   "version": "3.8.13"
  }
 },
 "nbformat": 4,
 "nbformat_minor": 5
}
